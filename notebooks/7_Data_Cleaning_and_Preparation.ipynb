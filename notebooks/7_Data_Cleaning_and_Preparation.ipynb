{
 "cells": [
  {
   "cell_type": "code",
   "execution_count": 2,
   "id": "618a353f-fc06-43ef-93cb-d54a53cfdc03",
   "metadata": {},
   "outputs": [
    {
     "name": "stdout",
     "output_type": "stream",
     "text": [
      "Cleaning data for benin-malanville:\n",
      "Cleaned data saved to cleaned_benin-malanville_data.csv\n",
      "\n",
      "\n",
      "Cleaning data for sierraleone-bumbuna:\n",
      "Cleaned data saved to cleaned_sierraleone-bumbuna_data.csv\n",
      "\n",
      "\n",
      "Cleaning data for togo-dapaong_qc:\n",
      "Cleaned data saved to cleaned_togo-dapaong_qc_data.csv\n",
      "\n",
      "\n"
     ]
    }
   ],
   "source": [
    "import pandas as pd\n",
    "\n",
    "# Define file paths for the datasets\n",
    "file_paths = {\n",
    "    'benin-malanville': 'benin-malanville_data.csv',\n",
    "    'sierraleone-bumbuna': 'sierraleone-bumbuna_data.csv',\n",
    "    'togo-dapaong_qc': 'togo-dapaong_qc_data.csv'\n",
    "}\n",
    "\n",
    "class DataCleaner:\n",
    "    def __init__(self, file_paths):\n",
    "        self.dataframes = {country: pd.read_csv(path) for country, path in file_paths.items()}\n",
    "\n",
    "    def clean_data(self):\n",
    "        \"\"\"\n",
    "        Performs final data cleaning based on insights from previous analyses.\n",
    "        \"\"\"\n",
    "        for country, df in self.dataframes.items():\n",
    "            print(f\"Cleaning data for {country}:\")\n",
    "            \n",
    "            # Drop rows with missing critical values in GHI, DNI, DHI\n",
    "            df.dropna(subset=['GHI', 'DNI', 'DHI'], inplace=True)\n",
    "            \n",
    "            # Handle incorrect entries by replacing negative values with NaN\n",
    "            df.loc[df['GHI'] < 0, 'GHI'] = pd.NA\n",
    "            df.loc[df['DNI'] < 0, 'DNI'] = pd.NA\n",
    "            df.loc[df['DHI'] < 0, 'DHI'] = pd.NA\n",
    "            \n",
    "            # Fill missing values with the median of the respective numeric columns\n",
    "            numeric_cols = df.select_dtypes(include='number')\n",
    "            df.fillna(numeric_cols.median(), inplace=True)\n",
    "            \n",
    "            # Remove rows with any remaining NaN values\n",
    "            df.dropna(inplace=True)\n",
    "            \n",
    "            # Check and remove duplicate rows\n",
    "            df.drop_duplicates(inplace=True)\n",
    "            \n",
    "            # Save cleaned dataset\n",
    "            cleaned_file_path = f'cleaned_{country}_data.csv'\n",
    "            df.to_csv(cleaned_file_path, index=False)\n",
    "            print(f\"Cleaned data saved to {cleaned_file_path}\")\n",
    "            print(\"\\n\")\n",
    "\n",
    "# Create an instance of DataCleaner\n",
    "cleaner = DataCleaner(file_paths)\n",
    "\n",
    "# Perform data cleaning\n",
    "cleaner.clean_data()\n"
   ]
  },
  {
   "cell_type": "code",
   "execution_count": null,
   "id": "39a04934-59f8-4e60-84bc-0b6600864cfc",
   "metadata": {},
   "outputs": [],
   "source": []
  }
 ],
 "metadata": {
  "kernelspec": {
   "display_name": "Python 3 (ipykernel)",
   "language": "python",
   "name": "python3"
  },
  "language_info": {
   "codemirror_mode": {
    "name": "ipython",
    "version": 3
   },
   "file_extension": ".py",
   "mimetype": "text/x-python",
   "name": "python",
   "nbconvert_exporter": "python",
   "pygments_lexer": "ipython3",
   "version": "3.12.4"
  }
 },
 "nbformat": 4,
 "nbformat_minor": 5
}
